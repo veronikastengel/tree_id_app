{
 "cells": [
  {
   "cell_type": "code",
   "execution_count": 1,
   "metadata": {
    "executionInfo": {
     "elapsed": 6439,
     "status": "ok",
     "timestamp": 1678821196940,
     "user": {
      "displayName": "Veronika Stengel",
      "userId": "03344221222444237167"
     },
     "user_tz": 0
    },
    "id": "3PZyd1Bf-EAz"
   },
   "outputs": [],
   "source": [
    "import numpy as np\n",
    "import pandas as pd\n",
    "import matplotlib.pyplot as plt\n",
    "import os\n",
    "\n",
    "import tensorflow as tf\n",
    "from tensorflow import keras\n",
    "from keras.models import Sequential"
   ]
  },
  {
   "cell_type": "code",
   "execution_count": 2,
   "metadata": {
    "colab": {
     "base_uri": "https://localhost:8080/"
    },
    "executionInfo": {
     "elapsed": 92167,
     "status": "ok",
     "timestamp": 1678821303879,
     "user": {
      "displayName": "Veronika Stengel",
      "userId": "03344221222444237167"
     },
     "user_tz": 0
    },
    "id": "pyTKhHU8VbJr",
    "outputId": "628ab4ea-8af4-4fc1-86a1-0acf6aee6533"
   },
   "outputs": [
    {
     "name": "stdout",
     "output_type": "stream",
     "text": [
      "Content count of images/t_train\\eucalyptus: 425\n",
      "Content count of images/t_train\\pinus_pinaster: 369\n",
      "Content count of images/t_train\\pinus_pinea: 539\n",
      "Content count of images/t_train\\quercus_rotundifolia: 626\n",
      "Content count of images/t_train\\quercus_suber: 360\n",
      "Content count of images/t_test\\eucalyptus: 74\n",
      "Content count of images/t_test\\pinus_pinaster: 64\n",
      "Content count of images/t_test\\pinus_pinea: 95\n",
      "Content count of images/t_test\\quercus_rotundifolia: 110\n",
      "Content count of images/t_test\\quercus_suber: 63\n"
     ]
    }
   ],
   "source": [
    "#1 collect data\n",
    "paths = [\"images/t_train\",\n",
    "         \"images/t_test\"]\n",
    "\n",
    "tree_species = [\"eucalyptus\",\"pinus_pinaster\",\"pinus_pinea\",\"quercus_rotundifolia\",\"quercus_suber\"]\n",
    "\n",
    "all_img = {}\n",
    "for dir in paths:\n",
    "  for species in tree_species:\n",
    "    key = os.path.join(dir, species)\n",
    "    value = os.listdir(os.path.join(dir,species))\n",
    "    all_img[key] = value \n",
    "    print(f\"Content count of {key}: {len(value)}\")\n",
    "# print: just for checking if the images are split in a good amount (test:15%, validation split later on)"
   ]
  },
  {
   "cell_type": "code",
   "execution_count": 3,
   "metadata": {
    "colab": {
     "base_uri": "https://localhost:8080/"
    },
    "executionInfo": {
     "elapsed": 320,
     "status": "ok",
     "timestamp": 1678821929087,
     "user": {
      "displayName": "Veronika Stengel",
      "userId": "03344221222444237167"
     },
     "user_tz": 0
    },
    "id": "AdnuGzw5U5QG",
    "outputId": "f44af175-ba7b-44de-8f4c-1caab5d4018f"
   },
   "outputs": [
    {
     "name": "stdout",
     "output_type": "stream",
     "text": [
      "quercus_suber: use i factor = 52\n",
      "pinus_pinea: use i factor = 34\n",
      "pinus_pinaster: use i factor = 50\n",
      "eucalyptus: use i factor = 44\n"
     ]
    }
   ],
   "source": [
    "#calculating factor of data augmentation to even out sample size differences\n",
    "max_count_t10 = 626*30 #amount in train with factor 30 on largest\n",
    "print(f\"quercus_suber: use i factor = {int(max_count_t10/360)}\")\n",
    "print(f\"pinus_pinea: use i factor = {int(max_count_t10/539)}\")\n",
    "print(f\"pinus_pinaster: use i factor = {int(max_count_t10/369)}\")\n",
    "print(f\"eucalyptus: use i factor = {int(max_count_t10/425)}\")\n",
    "z_val = {\"quercus_rotundifolia\": 30,\n",
    "         \"quercus_suber\": int(max_count_t10/360),\n",
    "         \"pinus_pinea\": int(max_count_t10/539),\n",
    "         \"pinus_pinaster\": int(max_count_t10/369),\n",
    "         \"eucalyptus\": int(max_count_t10/425)}"
   ]
  },
  {
   "cell_type": "code",
   "execution_count": 3,
   "metadata": {
    "executionInfo": {
     "elapsed": 256,
     "status": "ok",
     "timestamp": 1678821932290,
     "user": {
      "displayName": "Veronika Stengel",
      "userId": "03344221222444237167"
     },
     "user_tz": 0
    },
    "id": "gGx3ilAnVbHG"
   },
   "outputs": [],
   "source": [
    "from keras.preprocessing.image import ImageDataGenerator\n",
    "from keras.utils import img_to_array, load_img, image_dataset_from_directory"
   ]
  },
  {
   "cell_type": "code",
   "execution_count": 46,
   "metadata": {
    "colab": {
     "base_uri": "https://localhost:8080/"
    },
    "executionInfo": {
     "elapsed": 529892,
     "status": "ok",
     "timestamp": 1678809749686,
     "user": {
      "displayName": "Veronika Stengel",
      "userId": "03344221222444237167"
     },
     "user_tz": 0
    },
    "id": "kXw1VjPmVbEM",
    "outputId": "7334c227-e7cd-4f42-ff66-5702e7631d25"
   },
   "outputs": [
    {
     "name": "stdout",
     "output_type": "stream",
     "text": [
      "Working on: eucalyptus \tmultiplying by 44\n",
      "Working on: pinus_pinaster \tmultiplying by 50\n",
      "Working on: pinus_pinea \tmultiplying by 34\n",
      "Working on: quercus_rotundifolia \tmultiplying by 30\n",
      "Working on: quercus_suber \tmultiplying by 52\n",
      "Wall time: 24min 25s\n"
     ]
    }
   ],
   "source": [
    "%%time\n",
    "#multipy input images by x with modifications, saved into new folder.\n",
    "datagen = ImageDataGenerator(\n",
    "        rotation_range=30,\n",
    "        width_shift_range=0.1,\n",
    "        height_shift_range=0.1,\n",
    "        shear_range=0.1,\n",
    "        zoom_range=0.1,\n",
    "        horizontal_flip=True,\n",
    "        fill_mode='nearest')\n",
    "\n",
    "for path,imglist in all_img.items():\n",
    "\n",
    "  parent_dir = os.path.dirname(path)\n",
    "  tree_dir = os.path.basename(path)\n",
    "  save_to_dir = os.path.join(parent_dir+\"_samesplsz\",tree_dir)\n",
    "\n",
    "  if parent_dir.endswith(\"t_test\"):\n",
    "    continue\n",
    "#   if tree_dir not in ('pinus_pinaster'):#\"quercus_rotundifolia\", 'quercus_suber', 'eucalyptus', 'pinus_pinea'\n",
    "#     continue\n",
    "  print(\"Working on:\", tree_dir, \"\\tmultiplying by\", z_val[tree_dir])\n",
    "\n",
    "  for img_name in imglist:\n",
    "    img = load_img(os.path.join(path, img_name), target_size=(200,200), keep_aspect_ratio=True)  # this is a PIL image, cropped to a square and resized\n",
    "\n",
    "    x = img_to_array(img)  # Numpy array with shape (3, 200, 200)\n",
    "    x = x.reshape((1,) + x.shape)  # Numpy array with shape (1, 3, 200, 200)\n",
    "\n",
    "    i = 0\n",
    "    for batch in datagen.flow(x, batch_size=1,\n",
    "                              save_to_dir=save_to_dir, save_prefix=tree_dir, save_format='jpeg'):\n",
    "        i += 1\n",
    "        if i > z_val[tree_dir]:\n",
    "            break "
   ]
  },
  {
   "cell_type": "code",
   "execution_count": 4,
   "metadata": {
    "colab": {
     "base_uri": "https://localhost:8080/"
    },
    "executionInfo": {
     "elapsed": 133110,
     "status": "ok",
     "timestamp": 1678822067783,
     "user": {
      "displayName": "Veronika Stengel",
      "userId": "03344221222444237167"
     },
     "user_tz": 0
    },
    "id": "wx2I2LFqdB4V",
    "outputId": "1c967a7d-9786-4bd7-fd4e-7b91d35e3f65"
   },
   "outputs": [
    {
     "name": "stdout",
     "output_type": "stream",
     "text": [
      "Content count of images/t_train_samesplsz\\eucalyptus: 8520\n",
      "Content count of images/t_train_samesplsz\\pinus_pinaster: 8532\n",
      "Content count of images/t_train_samesplsz\\pinus_pinea: 8472\n",
      "Content count of images/t_train_samesplsz\\quercus_rotundifolia: 8594\n",
      "Content count of images/t_train_samesplsz\\quercus_suber: 8514\n"
     ]
    }
   ],
   "source": [
    "counts = {}\n",
    "for path,imglist in all_img.items():\n",
    "  parent_dir = os.path.dirname(path)\n",
    "  if parent_dir.endswith(\"test\"):\n",
    "    continue\n",
    "  tree_dir = os.path.basename(path)\n",
    "  calc_img_fld = os.path.join(parent_dir+\"_samesplsz\",tree_dir)\n",
    "  print(f\"Content count of {calc_img_fld}: {len(os.listdir(calc_img_fld))}\")\n",
    "  counts[calc_img_fld] = len(os.listdir(calc_img_fld))"
   ]
  },
  {
   "cell_type": "code",
   "execution_count": 6,
   "metadata": {
    "colab": {
     "base_uri": "https://localhost:8080/"
    },
    "executionInfo": {
     "elapsed": 210105,
     "status": "ok",
     "timestamp": 1678797497846,
     "user": {
      "displayName": "Veronika Stengel",
      "userId": "03344221222444237167"
     },
     "user_tz": 0
    },
    "id": "G11DY_4amBG_",
    "outputId": "f7543474-ffbc-46c1-8b67-f0af01dbedbe"
   },
   "outputs": [],
   "source": [
    " ## DO NOT RUN BY CHANCE!! ##\n",
    "  ###not happy with the data? delete it... and then comment out again!\n",
    "# for path,imglist in all_img.items():\n",
    "#   parent_dir = os.path.dirname(path)\n",
    "#   if parent_dir.endswith(\"test\"):\n",
    "#     continue\n",
    "#   tree_dir = os.path.basename(path)\n",
    "#   calc_img_fld = os.path.join(parent_dir+\"_samesplsz\",tree_dir)           ##check: is it the right DIR???\n",
    "#   for img_name in os.listdir(calc_img_fld):\n",
    "#     os.remove(os.path.join(calc_img_fld, img_name))\n",
    "#   print(f\"Deleted content of {calc_img_fld}.\")"
   ]
  },
  {
   "cell_type": "code",
   "execution_count": 5,
   "metadata": {
    "colab": {
     "base_uri": "https://localhost:8080/"
    },
    "executionInfo": {
     "elapsed": 314,
     "status": "ok",
     "timestamp": 1678822453540,
     "user": {
      "displayName": "Veronika Stengel",
      "userId": "03344221222444237167"
     },
     "user_tz": 0
    },
    "id": "CnZwf1hckAEX",
    "outputId": "f40f71e6-ec17-445b-ae28-2d764fbfc2ef"
   },
   "outputs": [
    {
     "name": "stdout",
     "output_type": "stream",
     "text": [
      "Validation total sum: 0, Train total sum: 42632\n"
     ]
    }
   ],
   "source": [
    "countsum_valid = 0\n",
    "countsum_train = 0\n",
    "for k,v in counts.items():\n",
    "  if \"train\"in k:\n",
    "    countsum_train += v\n",
    "print(f\"Train total sum: {countsum_train}\")"
   ]
  },
  {
   "cell_type": "code",
   "execution_count": null,
   "metadata": {
    "id": "c-Od6_YJVbBM"
   },
   "outputs": [],
   "source": [
    "###start on the model run"
   ]
  },
  {
   "cell_type": "code",
   "execution_count": 29,
   "metadata": {
    "executionInfo": {
     "elapsed": 246,
     "status": "ok",
     "timestamp": 1678822466804,
     "user": {
      "displayName": "Veronika Stengel",
      "userId": "03344221222444237167"
     },
     "user_tz": 0
    },
    "id": "CfO9F9NLV3Br"
   },
   "outputs": [],
   "source": [
    "from keras import backend as K\n",
    "\n",
    "img_width, img_height = 150, 150\n",
    "\n",
    "epochs = 15\n",
    "batch_size = 32\n",
    "\n",
    "if K.image_data_format() == 'channels_first':\n",
    "    input_shape = (3, img_width, img_height)\n",
    "else:\n",
    "    input_shape = (img_width, img_height, 3)"
   ]
  },
  {
   "cell_type": "code",
   "execution_count": 30,
   "metadata": {
    "executionInfo": {
     "elapsed": 617,
     "status": "ok",
     "timestamp": 1678822477293,
     "user": {
      "displayName": "Veronika Stengel",
      "userId": "03344221222444237167"
     },
     "user_tz": 0
    },
    "id": "Mv_GcRQOV2-1"
   },
   "outputs": [],
   "source": [
    "from keras.layers import Conv2D, MaxPooling2D\n",
    "from keras.layers import Activation, Dropout, Flatten\n",
    "from keras.layers import Dense\n",
    "\n",
    "model = Sequential()\n",
    "model.add(Conv2D(32, (3, 3), input_shape=input_shape)) #32 filters, filtersize 3x3 \n",
    "model.add(Activation('relu'))\n",
    "model.add(MaxPooling2D(pool_size=(2, 2)))\n",
    "\n",
    "model.add(Conv2D(64, (3, 3)))\n",
    "model.add(Activation('relu'))\n",
    "model.add(MaxPooling2D(pool_size=(2, 2)))\n",
    "\n",
    "model.add(Conv2D(128, (3, 3)))\n",
    "model.add(Activation('relu'))\n",
    "model.add(MaxPooling2D(pool_size=(2, 2)))"
   ]
  },
  {
   "cell_type": "code",
   "execution_count": 31,
   "metadata": {
    "executionInfo": {
     "elapsed": 622,
     "status": "ok",
     "timestamp": 1678822481394,
     "user": {
      "displayName": "Veronika Stengel",
      "userId": "03344221222444237167"
     },
     "user_tz": 0
    },
    "id": "RhiMULCJV27y"
   },
   "outputs": [],
   "source": [
    "model.add(Flatten())\n",
    "model.add(Dense(128))\n",
    "model.add(Activation('relu'))\n",
    "# model.add(Dropout(0.2)) #Tried different values, at the moment no dropout yielded best results\n",
    "model.add(Dense(len(tree_species))) \n",
    "model.add(Activation('softmax'))\n",
    "\n",
    "model.compile(loss='categorical_crossentropy',\n",
    "              optimizer='adam', \n",
    "              metrics=['accuracy']\n",
    "              )"
   ]
  },
  {
   "cell_type": "code",
   "execution_count": 26,
   "metadata": {
    "colab": {
     "base_uri": "https://localhost:8080/"
    },
    "executionInfo": {
     "elapsed": 16115,
     "status": "ok",
     "timestamp": 1678822500863,
     "user": {
      "displayName": "Veronika Stengel",
      "userId": "03344221222444237167"
     },
     "user_tz": 0
    },
    "id": "QAmNBjouQaXh",
    "outputId": "8d75f6cb-ffda-4169-dd04-6ae72537d161"
   },
   "outputs": [
    {
     "name": "stdout",
     "output_type": "stream",
     "text": [
      "Found 42632 files belonging to 5 classes.\n",
      "Using 34106 files for training.\n",
      "Using 8526 files for validation.\n"
     ]
    }
   ],
   "source": [
    "(train_dataset, valid_dataset) = tf.keras.utils.image_dataset_from_directory(\n",
    "    'images/t_train_samesplsz',\n",
    "    labels='inferred',\n",
    "    label_mode='categorical',\n",
    "    color_mode='rgb',\n",
    "    batch_size=batch_size,\n",
    "    image_size=(150, 150),\n",
    "    validation_split=0.2, #splitting train and validation 80/20\n",
    "    subset=\"both\",\n",
    "    seed=1\n",
    ")\n",
    "\n",
    "def normalize_pixels(image,label):\n",
    "    image = tf.cast(image/255. ,tf.float32)\n",
    "    return image,label\n",
    "\n",
    "train_dataset = train_dataset.map(normalize_pixels)\n",
    "valid_dataset = valid_dataset.map(normalize_pixels)"
   ]
  },
  {
   "cell_type": "code",
   "execution_count": 27,
   "metadata": {
    "executionInfo": {
     "elapsed": 18,
     "status": "ok",
     "timestamp": 1678822500863,
     "user": {
      "displayName": "Veronika Stengel",
      "userId": "03344221222444237167"
     },
     "user_tz": 0
    },
    "id": "uNEaIsO9CQ8K"
   },
   "outputs": [],
   "source": [
    "nb_train_samples = 34106\n",
    "nb_validation_samples = 8526"
   ]
  },
  {
   "cell_type": "code",
   "execution_count": 15,
   "metadata": {
    "colab": {
     "base_uri": "https://localhost:8080/",
     "height": 646
    },
    "executionInfo": {
     "elapsed": 4922,
     "status": "ok",
     "timestamp": 1678809839972,
     "user": {
      "displayName": "Veronika Stengel",
      "userId": "03344221222444237167"
     },
     "user_tz": 0
    },
    "id": "mLVGlMfTgmHV",
    "outputId": "960cdded-9376-4e3f-dad9-be21ff40477e"
   },
   "outputs": [],
   "source": [
    "#just visually checking individual content in the train, 9 items\n",
    "# plt.figure(figsize=(10, 10))\n",
    "# for images, labels in train_dataset.take(1):\n",
    "#   for i in range(9):\n",
    "#     image = tf.cast(images[i]*255. ,tf.float32)\n",
    "#     ax = plt.subplot(3, 3, i + 1)\n",
    "#     plt.imshow(image.numpy().astype(\"uint8\"))\n",
    "#     plt.title(labels[i].numpy())\n",
    "#     plt.axis(\"off\")"
   ]
  },
  {
   "cell_type": "code",
   "execution_count": null,
   "metadata": {
    "colab": {
     "base_uri": "https://localhost:8080/"
    },
    "collapsed": true,
    "executionInfo": {
     "elapsed": 6982387,
     "status": "ok",
     "timestamp": 1678830570035,
     "user": {
      "displayName": "Veronika Stengel",
      "userId": "03344221222444237167"
     },
     "user_tz": 0
    },
    "id": "aT5D9ErvgmAN",
    "outputId": "2cee0c3e-4102-4aa7-f377-3d127b00cc99"
   },
   "outputs": [],
   "source": [
    "history = model.fit(\n",
    "    train_dataset,\n",
    "    steps_per_epoch=nb_train_samples // (batch_size*epochs), #has to be, otherwise it complains about not enough data\n",
    "    epochs=epochs,\n",
    "    validation_data=valid_dataset,\n",
    "    validation_steps=nb_validation_samples // batch_size)\n",
    "\n",
    "#model.save_weights('first_try.h5') "
   ]
  },
  {
   "cell_type": "code",
   "execution_count": null,
   "metadata": {
    "id": "9wZDHHddkneS"
   },
   "outputs": [],
   "source": [
    "#model.summary()"
   ]
  },
  {
   "cell_type": "code",
   "execution_count": null,
   "metadata": {
    "id": "2vmwKIwl0ki-"
   },
   "outputs": [],
   "source": []
  },
  {
   "cell_type": "code",
   "execution_count": 20,
   "metadata": {
    "colab": {
     "base_uri": "https://localhost:8080/",
     "height": 404
    },
    "executionInfo": {
     "elapsed": 1063,
     "status": "ok",
     "timestamp": 1678812514120,
     "user": {
      "displayName": "Veronika Stengel",
      "userId": "03344221222444237167"
     },
     "user_tz": 0
    },
    "id": "7gATvqpJLTET",
    "outputId": "a7ace378-d9da-41f2-af15-bcdd1bf19413"
   },
   "outputs": [
    {
     "data": {
      "image/png": "[encoded data removed]",
      "text/plain": [
       "<Figure size 600x600 with 2 Axes>"
      ]
     },
     "metadata": {},
     "output_type": "display_data"
    }
   ],
   "source": [
    "acc = history.history['accuracy']\n",
    "val_acc = history.history['val_accuracy']\n",
    "loss = history.history['loss']\n",
    "val_loss = history.history['val_loss']\n",
    "\n",
    "plt.figure(figsize=(6, 6))\n",
    "plt.subplot(2, 1, 1)\n",
    "plt.plot(acc, label='Training Accuracy')\n",
    "plt.plot(val_acc, label='Validation Accuracy')\n",
    "plt.legend(loc='upper right')\n",
    "plt.ylabel('Accuracy')\n",
    "plt.ylim([min(plt.ylim()),1])\n",
    "plt.title('Training and Validation Accuracy')\n",
    "\n",
    "plt.subplot(2, 1, 2)\n",
    "plt.plot(loss, label='Training Loss')\n",
    "plt.plot(val_loss, label='Validation Loss')\n",
    "plt.legend(loc='lower right')\n",
    "plt.ylabel('Cross Entropy')\n",
    "plt.ylim([0,1.0])\n",
    "plt.title('Training and Validation Loss')\n",
    "plt.xlabel('epoch')\n",
    "plt.show()"
   ]
  },
  {
   "cell_type": "code",
   "execution_count": 21,
   "metadata": {
    "colab": {
     "base_uri": "https://localhost:8080/"
    },
    "executionInfo": {
     "elapsed": 1432,
     "status": "ok",
     "timestamp": 1678815989760,
     "user": {
      "displayName": "Veronika Stengel",
      "userId": "03344221222444237167"
     },
     "user_tz": 0
    },
    "id": "NYQ8DwScJPSJ",
    "outputId": "41f9d492-2b9a-4ff2-a5be-15db48b214b0"
   },
   "outputs": [
    {
     "name": "stdout",
     "output_type": "stream",
     "text": [
      "Found 406 files belonging to 5 classes.\n"
     ]
    }
   ],
   "source": [
    "test_dataset = tf.keras.utils.image_dataset_from_directory(\n",
    "    'images/t_test',\n",
    "    labels='inferred',\n",
    "    label_mode='categorical',\n",
    "    color_mode='rgb',\n",
    "    batch_size=batch_size,\n",
    "    image_size=(150, 150)\n",
    ")\n",
    "\n",
    "test_dataset = test_dataset.map(normalize_pixels)"
   ]
  },
  {
   "cell_type": "code",
   "execution_count": 22,
   "metadata": {
    "colab": {
     "base_uri": "https://localhost:8080/"
    },
    "executionInfo": {
     "elapsed": 41025,
     "status": "ok",
     "timestamp": 1678816234365,
     "user": {
      "displayName": "Veronika Stengel",
      "userId": "03344221222444237167"
     },
     "user_tz": 0
    },
    "id": "5LhumQXsIPYR",
    "outputId": "1f7387cf-5f92-46f9-e658-33e08208ea53"
   },
   "outputs": [
    {
     "name": "stdout",
     "output_type": "stream",
     "text": [
      "13/13 [==============================] - 4s 231ms/step - loss: 1.3132 - accuracy: 0.5640\n"
     ]
    },
    {
     "data": {
      "text/plain": [
       "[1.3131777048110962, 0.564039409160614]"
      ]
     },
     "execution_count": 22,
     "metadata": {},
     "output_type": "execute_result"
    }
   ],
   "source": [
    "#Model accuracy on test data\n",
    "model.evaluate(test_dataset)"
   ]
  },
  {
   "cell_type": "code",
   "execution_count": 16,
   "metadata": {
    "colab": {
     "base_uri": "https://localhost:8080/"
    },
    "executionInfo": {
     "elapsed": 2441,
     "status": "ok",
     "timestamp": 1678749049583,
     "user": {
      "displayName": "Veronika Stengel",
      "userId": "03344221222444237167"
     },
     "user_tz": 0
    },
    "id": "HFD_AZZ8m6yU",
    "outputId": "2abe88a6-cb83-4ebf-baa7-7463184eb62f"
   },
   "outputs": [
    {
     "name": "stderr",
     "output_type": "stream",
     "text": [
      "WARNING:absl:Found untraced functions such as _jit_compiled_convolution_op, _jit_compiled_convolution_op, _jit_compiled_convolution_op, _update_step_xla while saving (showing 4 of 4). These functions will not be directly callable after loading.\n"
     ]
    },
    {
     "name": "stdout",
     "output_type": "stream",
     "text": [
      "INFO:tensorflow:Assets written to: keras_model/model5\\assets\n"
     ]
    },
    {
     "name": "stderr",
     "output_type": "stream",
     "text": [
      "INFO:tensorflow:Assets written to: keras_model/model5\\assets\n"
     ]
    }
   ],
   "source": [
    "# Save the entire model\n",
    "model.save('keras_model/model5')"
   ]
  }
 ],
 "metadata": {
  "colab": {
   "authorship_tag": "ABX9TyMIsEY8buGjO4GpGRZteJUI",
   "mount_file_id": "1xPRL_6prjX0Jb8J-qbcLRA5fLuog5HHn",
   "provenance": []
  },
  "kernelspec": {
   "display_name": "Python 3 (ipykernel)",
   "language": "python",
   "name": "python3"
  },
  "language_info": {
   "codemirror_mode": {
    "name": "ipython",
    "version": 3
   },
   "file_extension": ".py",
   "mimetype": "text/x-python",
   "name": "python",
   "nbconvert_exporter": "python",
   "pygments_lexer": "ipython3",
   "version": "3.9.13"
  }
 },
 "nbformat": 4,
 "nbformat_minor": 1
}
