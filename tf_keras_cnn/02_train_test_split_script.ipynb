{
 "cells": [
  {
   "cell_type": "code",
   "execution_count": null,
   "metadata": {
    "id": "ck3nGC6UjGqM"
   },
   "outputs": [],
   "source": [
    "#imagemover train->test"
   ]
  },
  {
   "cell_type": "code",
   "execution_count": 1,
   "metadata": {
    "executionInfo": {
     "elapsed": 4,
     "status": "ok",
     "timestamp": 1678796768521,
     "user": {
      "displayName": "Veronika Stengel",
      "userId": "03344221222444237167"
     },
     "user_tz": 0
    },
    "id": "coOrO_rujMs4"
   },
   "outputs": [],
   "source": [
    "import os\n",
    "import numpy as np\n",
    "import random\n",
    "import shutil"
   ]
  },
  {
   "cell_type": "code",
   "execution_count": null,
   "metadata": {
    "id": "N5AAZYNtjMpt"
   },
   "outputs": [],
   "source": [
    "#Process description:\n",
    "##get all paths for train img\n",
    "##set number to transfer\n",
    "##select random img, into a list\n",
    "##move those into test folder"
   ]
  },
  {
   "cell_type": "code",
   "execution_count": 7,
   "metadata": {
    "colab": {
     "base_uri": "https://localhost:8080/"
    },
    "executionInfo": {
     "elapsed": 1772,
     "status": "ok",
     "timestamp": 1678809183056,
     "user": {
      "displayName": "Veronika Stengel",
      "userId": "03344221222444237167"
     },
     "user_tz": 0
    },
    "id": "CLb8z1xEjMmQ",
    "outputId": "dd535407-8910-4277-cd51-5134cb6e40f7"
   },
   "outputs": [
    {
     "data": {
      "text/plain": [
       "{'images\\\\t_train\\\\pinus_pinea': 634,\n",
       " 'images\\\\t_train\\\\pinus_pinaster': 433,\n",
       " 'images\\\\t_train\\\\eucalyptus': 499,\n",
       " 'images\\\\t_train\\\\quercus_suber': 423,\n",
       " 'images\\\\t_train\\\\quercus_rotundifolia': 736,\n",
       " 'images\\\\t_test\\\\pinus_pinea': 0,\n",
       " 'images\\\\t_test\\\\pinus_pinaster': 0,\n",
       " 'images\\\\t_test\\\\eucalyptus': 0,\n",
       " 'images\\\\t_test\\\\quercus_suber': 0,\n",
       " 'images\\\\t_test\\\\quercus_rotundifolia': 0}"
      ]
     },
     "execution_count": 7,
     "metadata": {},
     "output_type": "execute_result"
    }
   ],
   "source": [
    "paths = [r\"images\\t_train\",\n",
    "         r\"images\\t_test\"]\n",
    "\n",
    "tree_species = [\"pinus_pinea\",\"pinus_pinaster\",\"eucalyptus\",\"quercus_suber\",\"quercus_rotundifolia\"]\n",
    "counts_test_cur = []\n",
    "counts = {}\n",
    "all_img = {}\n",
    "for dir in paths:\n",
    "  for species in tree_species:\n",
    "    key = os.path.join(dir, species)\n",
    "    value = os.listdir(os.path.join(dir,species))\n",
    "    all_img[key] = value \n",
    "    counts[key] = len(value)\n",
    "    if \"test\" in dir:\n",
    "      counts_test_cur.append(len(value))\n",
    "counts"
   ]
  },
  {
   "cell_type": "code",
   "execution_count": 8,
   "metadata": {
    "colab": {
     "base_uri": "https://localhost:8080/"
    },
    "executionInfo": {
     "elapsed": 245,
     "status": "ok",
     "timestamp": 1678808659853,
     "user": {
      "displayName": "Veronika Stengel",
      "userId": "03344221222444237167"
     },
     "user_tz": 0
    },
    "id": "DQjZR0Q1lQM0",
    "outputId": "c7cdd7fd-11b3-48a5-a272-60135ce942e2"
   },
   "outputs": [
    {
     "data": {
      "text/plain": [
       "[634, 433, 499, 423, 736]"
      ]
     },
     "execution_count": 8,
     "metadata": {},
     "output_type": "execute_result"
    }
   ],
   "source": [
    "#total counts per species\n",
    "count_species = []\n",
    "for tree in tree_species:\n",
    "  c = 0\n",
    "  for k,v in counts.items():\n",
    "    if tree in k:\n",
    "      c += v\n",
    "  count_species.append(c)\n",
    "count_species"
   ]
  },
  {
   "cell_type": "code",
   "execution_count": 9,
   "metadata": {
    "colab": {
     "base_uri": "https://localhost:8080/"
    },
    "executionInfo": {
     "elapsed": 293,
     "status": "ok",
     "timestamp": 1678808661912,
     "user": {
      "displayName": "Veronika Stengel",
      "userId": "03344221222444237167"
     },
     "user_tz": 0
    },
    "id": "tlXm-w-LlQJW",
    "outputId": "dfc823fb-f176-4dec-8dda-a875abab466a"
   },
   "outputs": [
    {
     "data": {
      "text/plain": [
       "[95, 64, 74, 63, 110]"
      ]
     },
     "execution_count": 9,
     "metadata": {},
     "output_type": "execute_result"
    }
   ],
   "source": [
    "testperc=0.15 #train-test-split\n",
    "counts_test_goal = [int(testperc*count_tree) for count_tree in count_species]\n",
    "counts_test_goal"
   ]
  },
  {
   "cell_type": "code",
   "execution_count": 10,
   "metadata": {
    "colab": {
     "base_uri": "https://localhost:8080/"
    },
    "executionInfo": {
     "elapsed": 2,
     "status": "ok",
     "timestamp": 1678808663144,
     "user": {
      "displayName": "Veronika Stengel",
      "userId": "03344221222444237167"
     },
     "user_tz": 0
    },
    "id": "4Tb-2wBRlQEv",
    "outputId": "186357d2-10fa-4bd3-f141-fe600090fa2c"
   },
   "outputs": [
    {
     "data": {
      "text/plain": [
       "array([ 95,  64,  74,  63, 110])"
      ]
     },
     "execution_count": 10,
     "metadata": {},
     "output_type": "execute_result"
    }
   ],
   "source": [
    "counts_test_missing = np.array(counts_test_goal)-np.array(counts_test_cur)\n",
    "counts_test_missing"
   ]
  },
  {
   "cell_type": "code",
   "execution_count": 11,
   "metadata": {
    "colab": {
     "base_uri": "https://localhost:8080/"
    },
    "executionInfo": {
     "elapsed": 3,
     "status": "ok",
     "timestamp": 1678808639708,
     "user": {
      "displayName": "Veronika Stengel",
      "userId": "03344221222444237167"
     },
     "user_tz": 0
    },
    "id": "mL6wXY76njhg",
    "outputId": "34f505a7-263d-4578-9963-9a2cde9c5de3"
   },
   "outputs": [
    {
     "data": {
      "text/plain": [
       "[['20230310_183135 - Copy.jpg',\n",
       "  '456990227.jpg',\n",
       "  'gettyimages-1262637001-612x612.jpg',\n",
       "  'pinus_pinea_20230313_133342 - Copy.jpg',\n",
       "  'stone-pine.jpg',\n",
       "  'pinus_pinea_20230313_123438.jpg',\n",
       "  'nWQa1Fy.jpg',\n",
       "  'pinus_pinea_20230313_130809.jpg',\n",
       "  '8653.png',\n",
       "  'pinus_pinea_20230313_133300.jpg',\n",
       "  'pinus_pinea_20230313_120808.jpg',\n",
       "  'pinus_pinea_20230313_130248.jpg',\n",
       "  'pinus_pinea_20230313_124646.jpg',\n",
       "  'pinus_pinea_20230313_123853.jpg',\n",
       "  'pinus_pinea_20230313_121618.jpg',\n",
       "  'pinus_pinea_20230313_124852.jpg',\n",
       "  'pinus_pinea_20230313_124759.jpg',\n",
       "  'pinus_pinea_20230313_124005.jpg',\n",
       "  'pinus_pinea_20230313_123839.jpg',\n",
       "  'pinus_pinea_20230313_124355.jpg',\n",
       "  'pinus_pinea_20230313_120921.jpg',\n",
       "  'pinus_pinea_20230313_121531.jpg',\n",
       "  'pinus_pinea_20230313_121141.jpg',\n",
       "  'gettyimages-1346604716-612x612.jpg',\n",
       "  'pinus_pinea_20230313_124908.jpg',\n",
       "  'stone-pine-pinus-pinea-isolate-don-white-background-55053079.jpg',\n",
       "  'pinus_pinea_20230313_130837.jpg',\n",
       "  'set-stone-pine-trees-collection-isolated-white-background-clipping-paths-known-as-italian-botanical-name-pinus-pinea-167669622.jpg',\n",
       "  '133325.jpg',\n",
       "  'pinus_pinea_20230313_132600 - Copy.jpg',\n",
       "  'pinus_pinea_20230313_121716.jpg',\n",
       "  'pinus_pinea_20230313_131337.jpg',\n",
       "  'pinus_pinea_20230313_122907.jpg',\n",
       "  'pinus_pinea_20230313_132906.jpg',\n",
       "  'pinus_pinea_20230313_130329.jpg',\n",
       "  'pinus_pinea_20230313_123635.jpg',\n",
       "  'stone-pine-evening-light-moriani-beach-moriani-plage-corsica-france-europe-57036550.jpg',\n",
       "  'pinus_pinea_20230313_121939 - Copy.jpg',\n",
       "  'pinus_pinea_20230313_123756.jpg',\n",
       "  'pinus_pinea_20230313_124415.jpg',\n",
       "  'stone-pine-evening-light-moriani-beach-corsica-france-plage-57037149.jpg',\n",
       "  'pinus_pinea_20230313_124841.jpg',\n",
       "  'stone-pine-pinus-pinea-pine-tree-typical-mediterranean-region-174752716.jpg',\n",
       "  'pinus_pinea_20230313_121033.jpg',\n",
       "  'pinus_pinea_20230313_123036.jpg',\n",
       "  'pinus_pinea_20230313_121329.jpg',\n",
       "  'pinus_pinea_20230313_123135.jpg',\n",
       "  'pinus_pinea_20230313_123918.jpg',\n",
       "  'pinus_pinea_20230313_132511.jpg',\n",
       "  'pinus_pinea_20230313_121616.jpg',\n",
       "  'pinus_pinea_20230313_120142.jpg',\n",
       "  'pinus_pinea_20230313_132132.jpg',\n",
       "  'pinus_pinea_20230313_120542.jpg',\n",
       "  'pinus_pinea_20230313_123709.jpg',\n",
       "  'pinus_pinea_20230313_120518.jpg',\n",
       "  'pinus_pinea_20230313_120530.jpg',\n",
       "  'pinus_pinea_20230313_131725.jpg',\n",
       "  'pinus_pinea_20230313_125132.jpg',\n",
       "  'pinus_pinea_20230313_120718.jpg',\n",
       "  'pinus_pinea_20230313_123759.jpg',\n",
       "  'pinus_pinea_20230313_122315.jpg',\n",
       "  'pinus_pinea_20230313_120140.jpg',\n",
       "  'italian-stone-pines-pinus-pinea-known-as-umbrella-parasol-trees-rome-italy-165925969.jpg',\n",
       "  'pinus_pinea_20230313_124347.jpg',\n",
       "  'pinus_pinea_20230313_121356.jpg',\n",
       "  'pinus_pinea_20230313_130327.jpg',\n",
       "  'pinus_pinea_20230313_132614.jpg',\n",
       "  'pinus_pinea_20230313_121853 - Copy.jpg',\n",
       "  'pinus_pinea_20230313_120959.jpg',\n",
       "  'pinus_pinea_20230313_120104.jpg',\n",
       "  'pinus_pinea_20230313_133049.jpg',\n",
       "  'pinus_pinea_20230313_123835.jpg',\n",
       "  'pinus_pinea_20230313_121127.jpg',\n",
       "  'pinus_pinea_20230313_131357.jpg',\n",
       "  'pinus_pinea_20230313_123335.jpg',\n",
       "  'pinus_pinea_20230313_121832 - Copy.jpg',\n",
       "  'Stone-pine-tree-under-management-for-cone-production-A-and-size-of-a-stone-pinecone-B.jpg',\n",
       "  'pinus_pinea_20230313_132659 - Copy.jpg',\n",
       "  'pinus_pinea_20230313_130306.jpg',\n",
       "  'pinus_pinea_20230313_131752.jpg',\n",
       "  'pinus_pinea_20230313_121338.jpg',\n",
       "  'Pinus_pinea_trees_Doñana.jpg',\n",
       "  'pinus_pinea_20230313_124040.jpg',\n",
       "  'pinus_pinea_20230313_124240.jpg',\n",
       "  'pinus_pinea_20230313_124020.jpg',\n",
       "  'pinus_pinea_20230313_123803.jpg',\n",
       "  'shutterstock_192527597_a_kopija.jpg',\n",
       "  'pinus_pinea_20230313_121737 - Copy.jpg',\n",
       "  'pinus_pinea_20230313_121156.jpg',\n",
       "  'pinus_pinea_20230313_122048.jpg',\n",
       "  'pinus_pinea_20230313_120708.jpg',\n",
       "  'pinus_pinea_20230313_122354.jpg',\n",
       "  'pinus_pinea_20230313_131504.jpg',\n",
       "  'pinus_pinea_20230313_120222.jpg',\n",
       "  'pinus_pinea_20230313_124250.jpg'],\n",
       " ['picnic-area-marine-pine-forest-yeu-island-border-east-wooden-tables-surrounded-trees-france-54159714.jpg',\n",
       "  'pinus_pinaster_20230313_111319.jpg',\n",
       "  'pinus_pinaster_20230313_104112 - Copy.jpg',\n",
       "  'pinus_pinaster_20230313_105941.jpg',\n",
       "  'pinus_pinaster_20230313_105052.jpg',\n",
       "  'close-up-forest-maritime-pine-trees-green-needles-blue-sky-clouds-mediterranean-region-ostia-antica-rome-151380361.jpg',\n",
       "  'pinus_pinaster_20230313_103338.jpg',\n",
       "  'pinus_pinaster_20230313_104140 - Copy.jpg',\n",
       "  'pinus_pinaster_20230313_111033.jpg',\n",
       "  'pinus_pinaster_20230313_112249.jpg',\n",
       "  'gettyimages-1415533778-612x612.jpg',\n",
       "  'pinus_pinaster_20230313_103054.jpg',\n",
       "  'pinus_pinaster_20230313_104455.jpg',\n",
       "  'pinus_pinaster_20230313_112537.jpg',\n",
       "  'pinus_pinaster_20230313_102506.jpg',\n",
       "  'pinus_pinaster_20230313_105011.jpg',\n",
       "  'Pinus-pinaster-11-Zeeden-Saxifraga-Jan-van-der-Straaten.jpg',\n",
       "  'pinus_pinaster_20230313_103023.jpg',\n",
       "  'pinus_pinaster_20230313_105236.jpg',\n",
       "  'pinus_pinaster_20230313_102837.jpg',\n",
       "  'images (4).jpeg',\n",
       "  'pinus_pinaster_20230313_110315.jpg',\n",
       "  'pinus_pinaster_20230313_105703.jpg',\n",
       "  'pinus_pinaster_20230313_111926.jpg',\n",
       "  'pinuspinaster2_700x.jpg',\n",
       "  'Scots-Pine-Pinus-sylvestris-520x245.jpg',\n",
       "  '2023-03-11 20_50_33-Pinus pinaster hi-res stock photography and images - Alamy - Copy.png',\n",
       "  'pinus_pinaster_20230313_103446.jpg',\n",
       "  'pinus_pinaster_20230313_104627.jpg',\n",
       "  'pinus_pinaster_20230313_105714.jpg',\n",
       "  'pinus_pinaster_20230313_112535.jpg',\n",
       "  'pinus_pinaster_20230313_112545.jpg',\n",
       "  'pinus_pinaster_20230313_112603.jpg',\n",
       "  'pinus_pinaster_20230313_110913.jpg',\n",
       "  'pinus_pinaster_20230313_103833.jpg',\n",
       "  'pinus_pinaster_20230313_104527.jpg',\n",
       "  'Pinus_sp001_-_Islas_Cies.jpg',\n",
       "  'pinus_pinaster_20230313_104625.jpg',\n",
       "  'pinus_pinaster_20230313_105712.jpg',\n",
       "  'pinus_pinaster_20230313_111853 - Copy.jpg',\n",
       "  '240_F_42187878_Od07Znlf5wVqpGmQBv0kQ6eZkpaHiGQx.jpg',\n",
       "  'pinus_pinaster_20230313_104400.jpg',\n",
       "  'pinus_pinaster_20230313_104555.jpg',\n",
       "  'pinus_pinaster_20230313_104023 - Copy.jpg',\n",
       "  'pinus_pinaster_20230313_103049.jpg',\n",
       "  'pinus_pinaster_20230313_104257.jpg',\n",
       "  'maritime-pine-sardinian-beach-20749214.jpg',\n",
       "  'pinus_pinaster_20230313_102756.jpg',\n",
       "  'pinus_pinaster_20230313_112605.jpg',\n",
       "  'pinus_pinaster_20230313_104917.jpg',\n",
       "  '2023-03-11 20_51_39-Pinus pinaster hi-res stock photography and images - Alamy - Copy (3).png',\n",
       "  'pinus_pinaster_20230313_111301.jpg',\n",
       "  '2023-03-11 20_52_29-Pinus pinaster hi-res stock photography and images - Alamy - Copy (2).png',\n",
       "  'pinus_pinaster_20230313_103729.jpg',\n",
       "  'pinus_pinaster_20230313_112630.jpg',\n",
       "  'images (2).jpeg',\n",
       "  'pinus_pinaster_20230313_112154.jpg',\n",
       "  'pinus_pinaster_20230313_102410.jpg',\n",
       "  '2023-03-11 20_56_03-Pinus pinaster hi-res stock photography and images - Page 3 - Alamy - Copy (2).png',\n",
       "  '2023-03-11 20_51_19-Pinus pinaster hi-res stock photography and images - Alamy - Copy - Copy.png',\n",
       "  'pinus_pinaster_20230313_112526.jpg',\n",
       "  'pinus_pinaster_20230313_104511.jpg',\n",
       "  'pinus_pinaster_20230313_112328.jpg',\n",
       "  'rdc-611284.jpg'],\n",
       " ['eucalyptus_20230313_091713.jpg',\n",
       "  'eucalyptus_20230313_095426.jpg',\n",
       "  'eucalyptus_20230313_092751.jpg',\n",
       "  'thickets-eucalyptus-trees-sunset-light-eucalyptus-trees-thickets-eucalyptus-trees-sunset-light-landscape-265047548.jpg',\n",
       "  'eucalyptus_20230313_092213 - Copy.jpg',\n",
       "  'eucalyptus_20230313_094028.jpg',\n",
       "  '240_F_377957593_epn3cDUluU9JTXeRaXpHZ4zJV4iwvLxP.jpg',\n",
       "  'eucalyptus_20230313_092704.jpg',\n",
       "  'mountain-view-cemetery-eucalyptus1.jpg',\n",
       "  'eucalyptus_20230313_095623.jpg',\n",
       "  '240_F_377962954_hUj6TN9Gc0AtzKZBWfF9FigkvTuVo8dM.jpg',\n",
       "  'eucalyptus_20230313_092544.jpg',\n",
       "  'eucalyptus_20230313_091358.jpg',\n",
       "  'eucalyptus_20230313_090839.jpg',\n",
       "  'eucalyptus_20230313_101401.jpg',\n",
       "  'eucalyptus_20230313_091709.jpg',\n",
       "  'eucalyptus_20230313_091949.jpg',\n",
       "  'eucalyptus_20230313_091314.jpg',\n",
       "  'eucalyptus_20230313_090133.jpg',\n",
       "  'eucalyptus-trees-forest-leura-blue-mountains-australia-246450604.jpg',\n",
       "  'eucalyptus_20230313_091702.jpg',\n",
       "  '240_F_365605033_niH14DhH4wvxTTYR9C8AdN9Wzr1B7kRl.jpg',\n",
       "  'eucalyptus_20230313_095627.jpg',\n",
       "  'eucalyptus_20230313_090501.jpg',\n",
       "  'eucalyptus_20230313_091704.jpg',\n",
       "  'eucalyptus_20230313_091711 - Copy.jpg',\n",
       "  'eucalyptus_20230313_095806.jpg',\n",
       "  'pin-tree-eucalyptus-portugal-most-popular-tree-eucalyptus-globulus-forest-portugal-115007712.jpg',\n",
       "  'eucalyptus_20230313_092903.jpg',\n",
       "  'eucalyptus_20230313_094032.jpg',\n",
       "  'eucalyptus_20230313_094238.jpg',\n",
       "  'eucalyptus_20230313_093558.jpg',\n",
       "  'images2.jpeg',\n",
       "  'eucalyptus_20230313_101112.jpg',\n",
       "  'eucalyptus_20230313_092712.jpg',\n",
       "  'eucalyptus_20230313_091827.jpg',\n",
       "  'eucalyptus_20230313_093937.jpg',\n",
       "  'eucalyptus_20230313_090009.jpg',\n",
       "  'eucalyptus_20230313_091823.jpg',\n",
       "  'eucalyptus_20230313_091910.jpg',\n",
       "  'eucalyptus_20230313_090250.jpg',\n",
       "  'eucalyptus_20230313_090340.jpg',\n",
       "  '240_F_318963217_vJ3VAqc8Zv3XIpzgB3TVYMp0YYrAwghi.jpg',\n",
       "  'eucalyptus_20230313_091636 - Copy.jpg',\n",
       "  'euc1.jpg',\n",
       "  'eucalyptus_20230313_094922.jpg',\n",
       "  'eucalyptus_20230313_090246.jpg',\n",
       "  '240_F_294717007_ZnL97B78MGuHv3v9ZEDtPJ5gm3vSnRtD.jpg',\n",
       "  '240_F_63920637_EZlqUQRgqLKNsRQeZWb1lHDW1dhqOK5T.jpg',\n",
       "  'eucalyptus_20230313_092007.jpg',\n",
       "  'eucalyptus_20230313_092955.jpg',\n",
       "  'eucalyptus_20230313_100154.jpg',\n",
       "  'rainbow-eucalyptus-trees-18145372.jpg',\n",
       "  'eucalyptus_20230313_094022.jpg',\n",
       "  'eucalyptus_20230313_094615.jpg',\n",
       "  'eucalyptus_20230313_092958.jpg',\n",
       "  'eucalyptus_20230313_092740.jpg',\n",
       "  'eucalyptus_20230313_090833.jpg',\n",
       "  'eucalyptus_20230313_095951.jpg',\n",
       "  'eucalyptus_20230313_091356.jpg',\n",
       "  'eucalyptus_20230312_170528.jpg',\n",
       "  'eucalyptus_20230313_092650.jpg',\n",
       "  'eucalyptus_20230313_092838.jpg',\n",
       "  'eucalyptus_20230313_092624.jpg',\n",
       "  'eucalyptus_20230313_093218.jpg',\n",
       "  'eucalyptus_20230313_090556.jpg',\n",
       "  'eucalyptus_20230313_101928.jpg',\n",
       "  'eucalyptus_20230313_090105.jpg',\n",
       "  'eucalyptus_20230313_101040.jpg',\n",
       "  'eucalyptus_20230313_085951.jpg',\n",
       "  'eucalyptus_20230313_094848.jpg',\n",
       "  'eucalyptus_20230313_095218.jpg',\n",
       "  'eucalyptus_20230313_101540.jpg',\n",
       "  'eucalyptus_20230313_095659.jpg'],\n",
       " ['quercus_suber_20230312_212933.jpg',\n",
       "  'quercus_suber_20230312_221011.jpg',\n",
       "  'quercus_suber_20230312_212521.jpg',\n",
       "  'quercus_suber_20230312_191849.jpg',\n",
       "  'quercus_suber_20230312_215200.jpg',\n",
       "  'quercus_suber_20230312_214747 - Copy.jpg',\n",
       "  'quercus_suber_20230312_210020.jpg',\n",
       "  'quercus_suber_20230312_212901.jpg',\n",
       "  'quercus_suber_20230312_194953.jpg',\n",
       "  'quercus_suber_20230312_205614.jpg',\n",
       "  'alcornoque-quercus-suber-sobreira-800x800_D4oFTQk.jpg',\n",
       "  'quercus_suber_20230312_210652 - Copy.jpg',\n",
       "  'quercus_suber_20230312_201436.jpg',\n",
       "  'quercus_suber_20230312_205630.jpg',\n",
       "  'sobreiro.jpg',\n",
       "  'quercus_suber_20230312_215327.jpg',\n",
       "  'quercus_suber_20230312_215703.jpg',\n",
       "  'quercus_suber_20230312_214308.jpg',\n",
       "  'quercus_suber_20230312_210318.jpg',\n",
       "  'quercus_suber_20230312_213822.jpg',\n",
       "  'quercus_suber_20230312_193144 - Copy.jpg',\n",
       "  'quercus_suber_20230312_200059.jpg',\n",
       "  'quercus_suber_20230312_214558.jpg',\n",
       "  'quercus_suber_20230312_220348.jpg',\n",
       "  'quercus_suber_20230312_192519.jpg',\n",
       "  'quercus_suber_20230312_215439.jpg',\n",
       "  'quercus_suber_20230312_193918 - Copy.jpg',\n",
       "  'quercus_suber_20230312_210331.jpg',\n",
       "  'quercus_suber_20230312_192406.jpg',\n",
       "  'quercus_suber_20230312_215350.jpg',\n",
       "  'quercus_suber_20230312_193657 - Copy.jpg',\n",
       "  'quercus_suber_20230312_214842 - Copy.jpg',\n",
       "  'quercus_suber_20230312_194958.jpg',\n",
       "  'quercus_suber_20230312_195249.jpg',\n",
       "  'quercus_suber_20230312_214414.jpg',\n",
       "  'quercus_suber_20230312_191724.jpg',\n",
       "  'quercus_suber_20230312_205707.jpg',\n",
       "  'quercus_suber_20230312_200532.jpg',\n",
       "  'quercus_suber_20230312_213732.jpg',\n",
       "  'quercus_suber_20230312_210309.jpg',\n",
       "  'quercus_suber_20230312_170118.jpg',\n",
       "  'quercus_suber_20230312_214102.jpg',\n",
       "  'quercus_suber_20230312_220650.jpg',\n",
       "  'quercus_suber_20230312_221433.jpg',\n",
       "  'quercus_suber_20230312_214335.jpg',\n",
       "  'quercus_suber_20230312_210352.jpg',\n",
       "  'quercus_suber_20230312_191737.jpg',\n",
       "  'quercus_suber_20230312_205426.jpg',\n",
       "  'quercus_suber_20230312_201345.jpg',\n",
       "  'quercus_suber_20230312_194439.jpg',\n",
       "  'quercus_suber_20230312_214143.jpg',\n",
       "  'quercus_suber_20230312_192319.jpg',\n",
       "  'quercus_suber_20230312_192151.jpg',\n",
       "  'quercus_suber_20230312_213930.jpg',\n",
       "  'quercus_suber_20230312_210713.jpg',\n",
       "  'quercus_suber_20230312_210119.jpg',\n",
       "  'quercus_suber_20230312_221318.jpg',\n",
       "  'quercus_suber_20230312_212739.jpg',\n",
       "  'quercus_suber_20230312_193717 - Copy.jpg',\n",
       "  'quercus_suber_20230312_213755.jpg',\n",
       "  'quercus_suber_20230312_205438.jpg',\n",
       "  'quercus_suber_20230312_205922.jpg',\n",
       "  'quercus_suber_20230312_215555.jpg'],\n",
       " ['quercus_rotundifolia_20230312_165950.jpg',\n",
       "  'quercus_rotundifolia_20230312_141141.jpg',\n",
       "  'quercus_rotundifolia_20230312_155715.jpg',\n",
       "  'quercus_rotundifolia_20230312_165917.jpg',\n",
       "  'quercus_rotundifolia_20230312_185333.jpg',\n",
       "  'quercus_rotundifolia_20230312_135510.jpg',\n",
       "  'quercus_rotundifolia_20230312_141644.jpg',\n",
       "  'quercus_rotundifolia_20230312_150637.jpg',\n",
       "  'quercus_rotundifolia_20230312_154542.jpg',\n",
       "  'quercus_rotundifolia_20230312_162813.jpg',\n",
       "  'quercus_rotundifolia_20230312_171629.jpg',\n",
       "  'quercus_rotundifolia_20230312_161713.jpg',\n",
       "  'quercus_rotundifolia_20230312_155515.jpg',\n",
       "  'quercus_rotundifolia_20230312_153617.jpg',\n",
       "  'quercus_rotundifolia_20230312_183843.jpg',\n",
       "  'quercus_rotundifolia_20230312_142307.jpg',\n",
       "  'quercus_rotundifolia_20230312_173802.jpg',\n",
       "  'quercus_rotundifolia_20230312_143343 - Copy.jpg',\n",
       "  'quercus_rotundifolia_20230312_150019.jpg',\n",
       "  'quercus_rotundifolia_20230312_172349.jpg',\n",
       "  'quercus_rotundifolia_20230312_172913.jpg',\n",
       "  'quercus_rotundifolia_20230312_185026.jpg',\n",
       "  'quercus_rotundifolia_20230312_172025.jpg',\n",
       "  'quercus_rotundifolia_20230312_162737.jpg',\n",
       "  'quercus_rotundifolia_20230312_144542.jpg',\n",
       "  'quercus_rotundifolia_20230312_181159 - Copy.jpg',\n",
       "  'quercus_rotundifolia_20230312_144050.jpg',\n",
       "  'quercus_rotundifolia_20230312_143506 - Copy.jpg',\n",
       "  'quercus_rotundifolia_20230312_172347.jpg',\n",
       "  'quercus_rotundifolia_20230312_140518 - Copy.jpg',\n",
       "  'quercus_rotundifolia_20230312_140247.jpg',\n",
       "  'quercus_rotundifolia_20230312_182517.jpg',\n",
       "  'quercus_rotundifolia_20230312_173243.jpg',\n",
       "  'quercus_rotundifolia_20230312_134610.jpg',\n",
       "  'quercus_rotundifolia_20230312_170729.jpg',\n",
       "  'quercus_rotundifolia_20230312_140110.jpg',\n",
       "  'quercus_rotundifolia_20230312_154150.jpg',\n",
       "  'quercus_rotundifolia_20230312_175840.jpg',\n",
       "  'quercus_rotundifolia_20230312_172632.jpg',\n",
       "  'quercus_rotundifolia_20230312_170626.jpg',\n",
       "  'quercus_rotundifolia_20230312_153948.jpg',\n",
       "  'quercus_rotundifolia_20230312_163900.jpg',\n",
       "  'quercus_rotundifolia_20230312_134502.jpg',\n",
       "  'quercus_rotundifolia_20230312_153152.jpg',\n",
       "  'quercus_rotundifolia_20230312_181852 - Copy.jpg',\n",
       "  'quercus_rotundifolia_20230312_153515.jpg',\n",
       "  'quercus_rotundifolia_20230312_174224.jpg',\n",
       "  'quercus_rotundifolia_20230312_174800.jpg',\n",
       "  'quercus_rotundifolia_20230312_165348.jpg',\n",
       "  'quercus_rotundifolia_20230312_141544.jpg',\n",
       "  'quercus_rotundifolia_20230312_171653.jpg',\n",
       "  'quercus_rotundifolia_20230312_163931.jpg',\n",
       "  'quercus_rotundifolia_20230312_180755.jpg',\n",
       "  'quercus_rotundifolia_20230312_182449 - Copy.jpg',\n",
       "  'quercus_rotundifolia_20230312_191615.jpg',\n",
       "  'quercus_rotundifolia_20230312_142934.jpg',\n",
       "  'quercus_rotundifolia_20230312_164449.jpg',\n",
       "  'quercus_rotundifolia_20230312_170819.jpg',\n",
       "  'quercus_rotundifolia_20230312_151530.jpg',\n",
       "  'quercus_rotundifolia_20230312_171555.jpg',\n",
       "  'quercus_rotundifolia_20230312_142242.jpg',\n",
       "  'quercus_rotundifolia_20230312_172509.jpg',\n",
       "  'quercus_rotundifolia_20230312_165449.jpg',\n",
       "  'quercus_rotundifolia_20230312_165125.jpg',\n",
       "  'quercus_rotundifolia_20230312_165007.jpg',\n",
       "  'quercus_rotundifolia_20230312_140635 - Copy.jpg',\n",
       "  'quercus_rotundifolia_20230312_172557.jpg',\n",
       "  'quercus_rotundifolia_20230312_183712.jpg',\n",
       "  'quercus_rotundifolia_20230312_160209.jpg',\n",
       "  'quercus_rotundifolia_20230312_173449.jpg',\n",
       "  'quercus_rotundifolia_20230312_182253.jpg',\n",
       "  'quercus_rotundifolia_20230312_153334.jpg',\n",
       "  'quercus_rotundifolia_20230312_170325.jpg',\n",
       "  'quercus_rotundifolia_20230312_173127.jpg',\n",
       "  'quercus_rotundifolia_20230312_180500.jpg',\n",
       "  'quercus_rotundifolia_20230312_165355.jpg',\n",
       "  'quercus_rotundifolia_20230312_161318.jpg',\n",
       "  'quercus_rotundifolia_20230312_161829.jpg',\n",
       "  'quercus_rotundifolia_20230312_170337.jpg',\n",
       "  'quercus_rotundifolia_20230312_141813.jpg',\n",
       "  'quercus_rotundifolia_20230312_170213.jpg',\n",
       "  'quercus_rotundifolia_20230312_161427.jpg',\n",
       "  'quercus_rotundifolia_20230312_151336.jpg',\n",
       "  'quercus_rotundifolia_20230312_172249.jpg',\n",
       "  'quercus_rotundifolia_20230312_180205.jpg',\n",
       "  'quercus_rotundifolia_20230312_182137 - Copy.jpg',\n",
       "  'quercus_rotundifolia_20230312_170002.jpg',\n",
       "  'quercus_rotundifolia_20230312_164622.jpg',\n",
       "  'quercus_rotundifolia_20230312_141215.jpg',\n",
       "  'quercus_rotundifolia_20230312_142322.jpg',\n",
       "  'quercus_rotundifolia_20230312_140601.jpg',\n",
       "  'quercus_rotundifolia_20230312_153950.jpg',\n",
       "  'quercus_rotundifolia_20230312_181017 - Copy.jpg',\n",
       "  'quercus_rotundifolia_20230312_142056.jpg',\n",
       "  'quercus_rotundifolia_20230312_144137.jpg',\n",
       "  'quercus_rotundifolia_20230312_171923.jpg',\n",
       "  'quercus_rotundifolia_20230312_140047.jpg',\n",
       "  'quercus_rotundifolia_20230312_144530.jpg',\n",
       "  'quercus_rotundifolia_20230312_153642.jpg',\n",
       "  'quercus_rotundifolia_20230312_165822.jpg',\n",
       "  'quercus_rotundifolia_20230312_145537.jpg',\n",
       "  'quercus_rotundifolia_20230312_153857.jpg',\n",
       "  'quercus_rotundifolia_20230312_142245.jpg',\n",
       "  'quercus_rotundifolia_20230312_143947.jpg',\n",
       "  'quercus_rotundifolia_20230312_185959.jpg',\n",
       "  'quercus_rotundifolia_20230312_163620.jpg',\n",
       "  'quercus_rotundifolia_20230312_185323.jpg',\n",
       "  'quercus_rotundifolia_20230312_185938.jpg',\n",
       "  'quercus_rotundifolia_20230312_164339.jpg',\n",
       "  'quercus_rotundifolia_20230312_155517.jpg']]"
      ]
     },
     "execution_count": 11,
     "metadata": {},
     "output_type": "execute_result"
    }
   ],
   "source": [
    "img_to_move = []\n",
    "for i,tree in enumerate(tree_species):\n",
    "  img_to_move.append(random.sample(all_img[os.path.join(paths[0], tree)], counts_test_missing[i]))\n",
    "img_to_move"
   ]
  },
  {
   "cell_type": "code",
   "execution_count": 12,
   "metadata": {
    "executionInfo": {
     "elapsed": 812,
     "status": "ok",
     "timestamp": 1678808645978,
     "user": {
      "displayName": "Veronika Stengel",
      "userId": "03344221222444237167"
     },
     "user_tz": 0
    },
    "id": "HCnf74dhnjd8"
   },
   "outputs": [],
   "source": [
    "#only in this cell the actual moving files happens!\n",
    "for i,tree in enumerate(tree_species):\n",
    "  for img in img_to_move[i]:\n",
    "    move_from = os.path.join(paths[0], tree, img)\n",
    "    move_to = os.path.join(paths[1], tree, img)\n",
    "    shutil.move(move_from, move_to)"
   ]
  }
 ],
 "metadata": {
  "colab": {
   "authorship_tag": "ABX9TyP8PCO90bBcKPknRw9c+YiR",
   "mount_file_id": "18YZkvtnx774tqCrhVivEIuWF4n5JYHlE",
   "provenance": []
  },
  "kernelspec": {
   "display_name": "Python 3 (ipykernel)",
   "language": "python",
   "name": "python3"
  },
  "language_info": {
   "codemirror_mode": {
    "name": "ipython",
    "version": 3
   },
   "file_extension": ".py",
   "mimetype": "text/x-python",
   "name": "python",
   "nbconvert_exporter": "python",
   "pygments_lexer": "ipython3",
   "version": "3.9.13"
  }
 },
 "nbformat": 4,
 "nbformat_minor": 1
}
